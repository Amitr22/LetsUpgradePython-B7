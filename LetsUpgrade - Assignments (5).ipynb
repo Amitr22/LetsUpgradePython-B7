{
 "cells": [
  {
   "cell_type": "markdown",
   "metadata": {},
   "source": [
    "# Day 1 - No assignment"
   ]
  },
  {
   "cell_type": "markdown",
   "metadata": {},
   "source": [
    "# Day 2 - Assignment 1"
   ]
  },
  {
   "cell_type": "code",
   "execution_count": null,
   "metadata": {},
   "outputs": [],
   "source": [
    "#Dataype - List\n",
    "\n",
    "\n",
    "a = [1,2,3,4,5,'q','w','e','r','t','y',1,['x','y','z']]\n",
    "print(a)\n",
    "\n",
    "a.append('wwww') #add new element in the list\n",
    "print('Append :', a)\n",
    "\n",
    "b = a.copy();\n",
    "print('copy list a to b :',b)\n",
    "\n",
    "c = a.count(1) #no of element in the list\n",
    "print('count :',c)\n",
    "\n",
    "a.extend('querty') #each letter of the word(string type) will add as a different element.\n",
    "print('extend :',a)\n",
    "\n",
    "i = a.index('y') #return the first occurance of the value in the list\n",
    "print('index of element y :',i)\n",
    "\n",
    "i2 = a.index('y',11,20) #return the first occurance of the value in the list between the given index, if not available it will through error\n",
    "print('index of element y :',i2);\n",
    "\n",
    "a.insert(2,'jj') #insert value in the perticular index\n",
    "print('insert new value at 2nd index :',a)\n",
    "\n",
    "a.pop() #remove last index element\n",
    "print('remove last element of the list :',a)\n",
    "\n",
    "a.remove('r') #remove first occurance of the list \n",
    "print('remove element of the list :',a)\n",
    "\n",
    "a.reverse() #reverse the list\n",
    "print('reverse the list element :',a)\n",
    "\n",
    "p=a[6]\n",
    "p.sort(reverse=True) #sort the string values, reverse true will sort in reverse  \n",
    "print('sort the list value :',p)\n",
    "\n",
    "a.clear() # clear the list\n",
    "print('clear :',a)\n",
    "print('b :',b)"
   ]
  },
  {
   "cell_type": "code",
   "execution_count": null,
   "metadata": {},
   "outputs": [],
   "source": [
    "#Dataype - Dictionary\n",
    "\n",
    "d = {'c':'Alto','b':'tvs','a':'hero'}\n",
    "print(d)\n",
    "\n",
    "dFromKey = d.fromkeys('a','test') #key value data\n",
    "print(dFromKey)\n",
    "\n",
    "dGet = d.get('c') #get value from the given key\n",
    "print(dGet)\n",
    "\n",
    "dItems = d.items() #return key value pair\n",
    "print(dItems)\n",
    "\n",
    "\n",
    "dKeys = d.keys() #return only keys\n",
    "print(dKeys)\n",
    "\n",
    "dValues = d.values() #return only values\n",
    "print(dValues)\n",
    "\n",
    "dCopy = d.copy() #cody d directory to dCopy\n",
    "print('copy of the existing dictionary :',dCopy)\n",
    "\n",
    "\n",
    "d.setdefault('f','defaultValue') #if the key-value will not available,will add the default value \n",
    "print('set default :',d)\n",
    "\n",
    "d.update(b='tvs motors') #update/override key value\n",
    "print('update :',d)\n",
    "\n",
    "dPop = d.pop('a') #remove the values of the given key\n",
    "print(dPop)\n",
    "print(d)\n",
    "\n",
    "dPopItems = d.popitem() #remove the last key-value\n",
    "print(dPopItems)\n",
    "print(d)\n",
    "\n",
    "d.clear() #clear the element of the directory\n",
    "print('clear the elements : ',d)"
   ]
  },
  {
   "cell_type": "code",
   "execution_count": null,
   "metadata": {},
   "outputs": [],
   "source": [
    "#Dataype - Sets\n",
    "\n",
    "s = {1,2,3,'q','w','e',2,3}\n",
    "print(s)\n",
    "\n",
    "s.add(4)\n",
    "print('add :',s)\n",
    "\n",
    "sCopy = s.copy()\n",
    "print('copy :',sCopy)\n",
    "print('original', s)\n",
    "\n",
    "s.pop() \n",
    "print(s)\n",
    "\n",
    "s.remove('w') #remove perticular value\n",
    "print(s)\n",
    "\n",
    "s.clear()\n",
    "print('clear :',s)\n"
   ]
  },
  {
   "cell_type": "code",
   "execution_count": null,
   "metadata": {},
   "outputs": [],
   "source": [
    "#Datatype - tuples\n",
    "\n",
    "t = (1,2,3,'q','w',1)\n",
    "print(t)\n",
    "\n",
    "tCount = t.count(1) #count the no of element\n",
    "print('count of 1 :',tCount)\n",
    "\n",
    "print(len(t)) #get length of the tuple\n",
    "\n",
    "t1 = (4,5,6,7) #retun min & max value but should be all element as number or string\n",
    "print('min :',min(t1))\n",
    "print('max :',max(t1))\n",
    "\n",
    "t = t.index('w') #fetch the index of the element if duplicate then first one otherwise error\n",
    "print('index of w :',t)"
   ]
  },
  {
   "cell_type": "code",
   "execution_count": null,
   "metadata": {},
   "outputs": [],
   "source": [
    "#Datatype - String\n",
    "\n",
    "str = 'qwertye';\n",
    "print(str)\n",
    "\n",
    "\n",
    "sCount = str.count('e')#no of element count \n",
    "print(sCount)\n",
    "\n",
    "sCap = str.capitalize() #capitalize first character\n",
    "print(sCap)\n",
    "\n",
    "sFind = str.find('e') #return index of the character\n",
    "print(sFind)\n",
    "\n",
    "sIsLower = str.islower()\n",
    "print(sIsLower)\n",
    "\n",
    "strIsDigit = str.isdigit()\n",
    "print(strIsDigit)"
   ]
  },
  {
   "cell_type": "markdown",
   "metadata": {},
   "source": [
    "# Day 3 - Assignment 1"
   ]
  },
  {
   "cell_type": "code",
   "execution_count": null,
   "metadata": {},
   "outputs": [],
   "source": [
    "altitue = int(input(\"Please let us know your current altitue\"));\n",
    "if altitue <= 1000:\n",
    "    print('Safe to Land')\n",
    "elif altitue >1000 and altitue <=5000:\n",
    "    print('Bring down to 1000')\n",
    "elif altitue > 5000:\n",
    "    print('Turn Around and attempt later')"
   ]
  },
  {
   "cell_type": "markdown",
   "metadata": {},
   "source": [
    "# Day 3 - Assignment 2"
   ]
  },
  {
   "cell_type": "code",
   "execution_count": null,
   "metadata": {},
   "outputs": [],
   "source": [
    "numbers = range(1,201)\n",
    "for x in numbers:\n",
    "    if x == 1:\n",
    "        continue\n",
    "    for y in range(2,x):\n",
    "        if x%y==0:\n",
    "            break  \n",
    "    else:\n",
    "        print(x)\n",
    "        \n",
    "        \n",
    "    \n",
    "        "
   ]
  },
  {
   "cell_type": "markdown",
   "metadata": {},
   "source": [
    "# Day 4 - Assignment 1"
   ]
  },
  {
   "cell_type": "code",
   "execution_count": 5,
   "metadata": {},
   "outputs": [
    {
     "name": "stdout",
     "output_type": "stream",
     "text": [
      "First Armstrong number : 1741725\n"
     ]
    }
   ],
   "source": [
    "NumRange = range(1042000,702648266)\n",
    "\n",
    "for num in NumRange:\n",
    "    length = len(str(num))\n",
    "    sum = 0\n",
    "    temp = num\n",
    "    flag = False\n",
    "    while temp > 0:\n",
    "        digit = temp % 10\n",
    "        sum += digit ** length\n",
    "        temp = temp // 10\n",
    "        if num == sum:\n",
    "            print(\"First Armstrong number :\",num)\n",
    "            flag = True\n",
    "    if flag:\n",
    "        break\n",
    "            "
   ]
  },
  {
   "cell_type": "markdown",
   "metadata": {},
   "source": [
    "# Day 5 - Assignment 1"
   ]
  },
  {
   "cell_type": "code",
   "execution_count": 35,
   "metadata": {},
   "outputs": [
    {
     "name": "stdout",
     "output_type": "stream",
     "text": [
      "its Gone\n"
     ]
    }
   ],
   "source": [
    "#identify sublist[1,1,5] - it's a Match / it's Gone\n",
    "\n",
    "def matchSubList(*arg):\n",
    "    listToMatch = [1,1,5]\n",
    "    matchList = []\n",
    "  \n",
    "    for i in arg[0]:\n",
    "    \n",
    "        if i==1:\n",
    "            matchList.append(i)\n",
    "        elif i ==5:\n",
    "            matchList.append(i)\n",
    "            break\n",
    "        \n",
    "    if matchList[0] == 1 and matchList[1] == 1 and matchList[2] == 5:\n",
    "        print('it\\'s a Match')\n",
    "    else:\n",
    "        print('its Gone')\n",
    "        \n",
    "value = [1,5,2,3,1,2,1,3,5]\n",
    "matchSubList(value)\n"
   ]
  },
  {
   "cell_type": "markdown",
   "metadata": {},
   "source": [
    "# Day 5 - Assignment 2"
   ]
  },
  {
   "cell_type": "code",
   "execution_count": 4,
   "metadata": {},
   "outputs": [
    {
     "name": "stdout",
     "output_type": "stream",
     "text": [
      "[2, 3, 5, 7, 11, 13, 17, 19, 23, 29, 31, 37, 41, 43, 47, 53, 59, 61, 67, 71, 73, 79, 83, 89, 97, 101, 103, 107, 109, 113, 127, 131, 137, 139, 149, 151, 157, 163, 167, 173, 179, 181, 191, 193, 197, 199, 211, 223, 227, 229, 233, 239, 241, 251, 257, 263, 269, 271, 277, 281, 283, 293, 307, 311, 313, 317, 331, 337, 347, 349, 353, 359, 367, 373, 379, 383, 389, 397, 401, 409, 419, 421, 431, 433, 439, 443, 449, 457, 461, 463, 467, 479, 487, 491, 499, 503, 509, 521, 523, 541, 547, 557, 563, 569, 571, 577, 587, 593, 599, 601, 607, 613, 617, 619, 631, 641, 643, 647, 653, 659, 661, 673, 677, 683, 691, 701, 709, 719, 727, 733, 739, 743, 751, 757, 761, 769, 773, 787, 797, 809, 811, 821, 823, 827, 829, 839, 853, 857, 859, 863, 877, 881, 883, 887, 907, 911, 919, 929, 937, 941, 947, 953, 967, 971, 977, 983, 991, 997, 1009, 1013, 1019, 1021, 1031, 1033, 1039, 1049, 1051, 1061, 1063, 1069, 1087, 1091, 1093, 1097, 1103, 1109, 1117, 1123, 1129, 1151, 1153, 1163, 1171, 1181, 1187, 1193, 1201, 1213, 1217, 1223, 1229, 1231, 1237, 1249, 1259, 1277, 1279, 1283, 1289, 1291, 1297, 1301, 1303, 1307, 1319, 1321, 1327, 1361, 1367, 1373, 1381, 1399, 1409, 1423, 1427, 1429, 1433, 1439, 1447, 1451, 1453, 1459, 1471, 1481, 1483, 1487, 1489, 1493, 1499, 1511, 1523, 1531, 1543, 1549, 1553, 1559, 1567, 1571, 1579, 1583, 1597, 1601, 1607, 1609, 1613, 1619, 1621, 1627, 1637, 1657, 1663, 1667, 1669, 1693, 1697, 1699, 1709, 1721, 1723, 1733, 1741, 1747, 1753, 1759, 1777, 1783, 1787, 1789, 1801, 1811, 1823, 1831, 1847, 1861, 1867, 1871, 1873, 1877, 1879, 1889, 1901, 1907, 1913, 1931, 1933, 1949, 1951, 1973, 1979, 1987, 1993, 1997, 1999, 2003, 2011, 2017, 2027, 2029, 2039, 2053, 2063, 2069, 2081, 2083, 2087, 2089, 2099, 2111, 2113, 2129, 2131, 2137, 2141, 2143, 2153, 2161, 2179, 2203, 2207, 2213, 2221, 2237, 2239, 2243, 2251, 2267, 2269, 2273, 2281, 2287, 2293, 2297, 2309, 2311, 2333, 2339, 2341, 2347, 2351, 2357, 2371, 2377, 2381, 2383, 2389, 2393, 2399, 2411, 2417, 2423, 2437, 2441, 2447, 2459, 2467, 2473, 2477]\n"
     ]
    }
   ],
   "source": [
    "#prime number using list\n",
    "\n",
    "def getPrimeNumber(*x):\n",
    "    x = x[0]\n",
    "    if x == 1:\n",
    "        return False\n",
    "    for y in range(2,int(x)):\n",
    "        if x%y==0:\n",
    "              return False\n",
    "    else:\n",
    "        return True\n",
    "        \n",
    "numbers = range(1,2501)\n",
    "primeNumbers = filter(getPrimeNumber,numbers)\n",
    "print(list(primeNumbers))\n"
   ]
  },
  {
   "cell_type": "markdown",
   "metadata": {},
   "source": [
    "# Day 5 - Assignment 3"
   ]
  },
  {
   "cell_type": "code",
   "execution_count": 24,
   "metadata": {},
   "outputs": [
    {
     "data": {
      "text/plain": [
       "['Hey This Is Amitr', 'I Am From Patna', 'Currently Living In Banglore']"
      ]
     },
     "execution_count": 24,
     "metadata": {},
     "output_type": "execute_result"
    }
   ],
   "source": [
    "#using Lambda Function, Capitalizing the statement\n",
    "\n",
    "\n",
    "statements = ['hey this is amitr','i am from patna','currently living in banglore']\n",
    "capitalize = map(lambda statements: statements.title(),statements)\n",
    "list(capitalize)"
   ]
  },
  {
   "cell_type": "code",
   "execution_count": null,
   "metadata": {},
   "outputs": [],
   "source": []
  }
 ],
 "metadata": {
  "kernelspec": {
   "display_name": "Python 3",
   "language": "python",
   "name": "python3"
  },
  "language_info": {
   "codemirror_mode": {
    "name": "ipython",
    "version": 3
   },
   "file_extension": ".py",
   "mimetype": "text/x-python",
   "name": "python",
   "nbconvert_exporter": "python",
   "pygments_lexer": "ipython3",
   "version": "3.7.6"
  }
 },
 "nbformat": 4,
 "nbformat_minor": 4
}
