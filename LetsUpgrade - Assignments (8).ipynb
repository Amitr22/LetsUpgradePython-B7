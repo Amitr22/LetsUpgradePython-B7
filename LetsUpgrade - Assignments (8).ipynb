{
 "cells": [
  {
   "cell_type": "markdown",
   "metadata": {},
   "source": [
    "# Day 1 - No assignment"
   ]
  },
  {
   "cell_type": "markdown",
   "metadata": {},
   "source": [
    "# Day 2 - Assignment 1"
   ]
  },
  {
   "cell_type": "code",
   "execution_count": null,
   "metadata": {},
   "outputs": [],
   "source": [
    "#Dataype - List\n",
    "\n",
    "\n",
    "a = [1,2,3,4,5,'q','w','e','r','t','y',1,['x','y','z']]\n",
    "print(a)\n",
    "\n",
    "a.append('wwww') #add new element in the list\n",
    "print('Append :', a)\n",
    "\n",
    "b = a.copy();\n",
    "print('copy list a to b :',b)\n",
    "\n",
    "c = a.count(1) #no of element in the list\n",
    "print('count :',c)\n",
    "\n",
    "a.extend('querty') #each letter of the word(string type) will add as a different element.\n",
    "print('extend :',a)\n",
    "\n",
    "i = a.index('y') #return the first occurance of the value in the list\n",
    "print('index of element y :',i)\n",
    "\n",
    "i2 = a.index('y',11,20) #return the first occurance of the value in the list between the given index, if not available it will through error\n",
    "print('index of element y :',i2);\n",
    "\n",
    "a.insert(2,'jj') #insert value in the perticular index\n",
    "print('insert new value at 2nd index :',a)\n",
    "\n",
    "a.pop() #remove last index element\n",
    "print('remove last element of the list :',a)\n",
    "\n",
    "a.remove('r') #remove first occurance of the list \n",
    "print('remove element of the list :',a)\n",
    "\n",
    "a.reverse() #reverse the list\n",
    "print('reverse the list element :',a)\n",
    "\n",
    "p=a[6]\n",
    "p.sort(reverse=True) #sort the string values, reverse true will sort in reverse  \n",
    "print('sort the list value :',p)\n",
    "\n",
    "a.clear() # clear the list\n",
    "print('clear :',a)\n",
    "print('b :',b)"
   ]
  },
  {
   "cell_type": "code",
   "execution_count": null,
   "metadata": {},
   "outputs": [],
   "source": [
    "#Dataype - Dictionary\n",
    "\n",
    "d = {'c':'Alto','b':'tvs','a':'hero'}\n",
    "print(d)\n",
    "\n",
    "dFromKey = d.fromkeys('a','test') #key value data\n",
    "print(dFromKey)\n",
    "\n",
    "dGet = d.get('c') #get value from the given key\n",
    "print(dGet)\n",
    "\n",
    "dItems = d.items() #return key value pair\n",
    "print(dItems)\n",
    "\n",
    "\n",
    "dKeys = d.keys() #return only keys\n",
    "print(dKeys)\n",
    "\n",
    "dValues = d.values() #return only values\n",
    "print(dValues)\n",
    "\n",
    "dCopy = d.copy() #cody d directory to dCopy\n",
    "print('copy of the existing dictionary :',dCopy)\n",
    "\n",
    "\n",
    "d.setdefault('f','defaultValue') #if the key-value will not available,will add the default value \n",
    "print('set default :',d)\n",
    "\n",
    "d.update(b='tvs motors') #update/override key value\n",
    "print('update :',d)\n",
    "\n",
    "dPop = d.pop('a') #remove the values of the given key\n",
    "print(dPop)\n",
    "print(d)\n",
    "\n",
    "dPopItems = d.popitem() #remove the last key-value\n",
    "print(dPopItems)\n",
    "print(d)\n",
    "\n",
    "d.clear() #clear the element of the directory\n",
    "print('clear the elements : ',d)"
   ]
  },
  {
   "cell_type": "code",
   "execution_count": null,
   "metadata": {},
   "outputs": [],
   "source": [
    "#Dataype - Sets\n",
    "\n",
    "s = {1,2,3,'q','w','e',2,3}\n",
    "print(s)\n",
    "\n",
    "s.add(4)\n",
    "print('add :',s)\n",
    "\n",
    "sCopy = s.copy()\n",
    "print('copy :',sCopy)\n",
    "print('original', s)\n",
    "\n",
    "s.pop() \n",
    "print(s)\n",
    "\n",
    "s.remove('w') #remove perticular value\n",
    "print(s)\n",
    "\n",
    "s.clear()\n",
    "print('clear :',s)\n"
   ]
  },
  {
   "cell_type": "code",
   "execution_count": null,
   "metadata": {},
   "outputs": [],
   "source": [
    "#Datatype - tuples\n",
    "\n",
    "t = (1,2,3,'q','w',1)\n",
    "print(t)\n",
    "\n",
    "tCount = t.count(1) #count the no of element\n",
    "print('count of 1 :',tCount)\n",
    "\n",
    "print(len(t)) #get length of the tuple\n",
    "\n",
    "t1 = (4,5,6,7) #retun min & max value but should be all element as number or string\n",
    "print('min :',min(t1))\n",
    "print('max :',max(t1))\n",
    "\n",
    "t = t.index('w') #fetch the index of the element if duplicate then first one otherwise error\n",
    "print('index of w :',t)"
   ]
  },
  {
   "cell_type": "code",
   "execution_count": null,
   "metadata": {},
   "outputs": [],
   "source": [
    "#Datatype - String\n",
    "\n",
    "str = 'qwertye';\n",
    "print(str)\n",
    "\n",
    "\n",
    "sCount = str.count('e')#no of element count \n",
    "print(sCount)\n",
    "\n",
    "sCap = str.capitalize() #capitalize first character\n",
    "print(sCap)\n",
    "\n",
    "sFind = str.find('e') #return index of the character\n",
    "print(sFind)\n",
    "\n",
    "sIsLower = str.islower()\n",
    "print(sIsLower)\n",
    "\n",
    "strIsDigit = str.isdigit()\n",
    "print(strIsDigit)"
   ]
  },
  {
   "cell_type": "markdown",
   "metadata": {},
   "source": [
    "# Day 3 - Assignment 1"
   ]
  },
  {
   "cell_type": "code",
   "execution_count": null,
   "metadata": {},
   "outputs": [],
   "source": [
    "altitue = int(input(\"Please let us know your current altitue\"));\n",
    "if altitue <= 1000:\n",
    "    print('Safe to Land')\n",
    "elif altitue >1000 and altitue <=5000:\n",
    "    print('Bring down to 1000')\n",
    "elif altitue > 5000:\n",
    "    print('Turn Around and attempt later')"
   ]
  },
  {
   "cell_type": "markdown",
   "metadata": {},
   "source": [
    "# Day 3 - Assignment 2"
   ]
  },
  {
   "cell_type": "code",
   "execution_count": null,
   "metadata": {},
   "outputs": [],
   "source": [
    "numbers = range(1,201)\n",
    "for x in numbers:\n",
    "    if x == 1:\n",
    "        continue\n",
    "    for y in range(2,x):\n",
    "        if x%y==0:\n",
    "            break  \n",
    "    else:\n",
    "        print(x)\n",
    "        \n",
    "        \n",
    "    \n",
    "        "
   ]
  },
  {
   "cell_type": "markdown",
   "metadata": {},
   "source": [
    "# Day 4 - Assignment 1"
   ]
  },
  {
   "cell_type": "code",
   "execution_count": null,
   "metadata": {},
   "outputs": [],
   "source": [
    "NumRange = range(1042000,702648266)\n",
    "\n",
    "for num in NumRange:\n",
    "    length = len(str(num))\n",
    "    sum = 0\n",
    "    temp = num\n",
    "    flag = False\n",
    "    while temp > 0:\n",
    "        digit = temp % 10\n",
    "        sum += digit ** length\n",
    "        temp = temp // 10\n",
    "        if num == sum:\n",
    "            print(\"First Armstrong number :\",num)\n",
    "            flag = True\n",
    "    if flag:\n",
    "        break\n",
    "            "
   ]
  },
  {
   "cell_type": "markdown",
   "metadata": {},
   "source": [
    "# Day 5 - Assignment 1"
   ]
  },
  {
   "cell_type": "code",
   "execution_count": null,
   "metadata": {},
   "outputs": [],
   "source": [
    "#identify sublist[1,1,5] - it's a Match / it's Gone\n",
    "\n",
    "def matchSubList(*arg):\n",
    "    listToMatch = [1,1,5]\n",
    "    matchList = []\n",
    "  \n",
    "    for i in arg[0]:\n",
    "    \n",
    "        if i==1:\n",
    "            matchList.append(i)\n",
    "        elif i ==5:\n",
    "            matchList.append(i)\n",
    "            break\n",
    "        \n",
    "    if matchList[0] == 1 and matchList[1] == 1 and matchList[2] == 5:\n",
    "        print('it\\'s a Match')\n",
    "    else:\n",
    "        print('its Gone')\n",
    "        \n",
    "value = [1,5,2,3,1,2,1,3,5]\n",
    "matchSubList(value)\n"
   ]
  },
  {
   "cell_type": "markdown",
   "metadata": {},
   "source": [
    "# Day 5 - Assignment 2"
   ]
  },
  {
   "cell_type": "code",
   "execution_count": null,
   "metadata": {},
   "outputs": [],
   "source": [
    "#prime number using list\n",
    "\n",
    "def getPrimeNumber(*x):\n",
    "    x = x[0]\n",
    "    if x == 1:\n",
    "        return False\n",
    "    for y in range(2,int(x)):\n",
    "        if x%y==0:\n",
    "              return False\n",
    "    else:\n",
    "        return True\n",
    "        \n",
    "numbers = range(1,2501)\n",
    "primeNumbers = filter(getPrimeNumber,numbers)\n",
    "print(list(primeNumbers))\n"
   ]
  },
  {
   "cell_type": "markdown",
   "metadata": {},
   "source": [
    "# Day 5 - Assignment 3"
   ]
  },
  {
   "cell_type": "code",
   "execution_count": null,
   "metadata": {},
   "outputs": [],
   "source": [
    "#using Lambda Function, Capitalizing the statement\n",
    "\n",
    "\n",
    "statements = ['hey this is amitr','i am from patna','currently living in banglore']\n",
    "capitalize = map(lambda statements: statements.title(),statements)\n",
    "list(capitalize)"
   ]
  },
  {
   "cell_type": "markdown",
   "metadata": {},
   "source": [
    "# Day 6 - Assignment 1"
   ]
  },
  {
   "cell_type": "code",
   "execution_count": null,
   "metadata": {},
   "outputs": [],
   "source": [
    "#bank account class with ownername & balance as attribute and withdraw & deposit as method\n",
    "\n",
    "class bank:\n",
    "    def __init__(self,ownername,balance):\n",
    "        self.ownername = ownername\n",
    "        self.balance = int(balance)\n",
    "    \n",
    "    def withdraw(self,amount):\n",
    "        amount = int(amount)\n",
    "        if(self.balance >= amount):\n",
    "            self.balance-=amount\n",
    "            print(\"your current balance after withdraw is :\", self.balance)\n",
    "        else:\n",
    "            print(\"you don't have enough credit to withdraw - \",self.balance)\n",
    "\n",
    "    def deposit(self,amount):\n",
    "        amount = int(amount)\n",
    "        self.balance +=amount\n",
    "        print(\"your current balance after deposit is :\", self.balance)"
   ]
  },
  {
   "cell_type": "code",
   "execution_count": null,
   "metadata": {},
   "outputs": [],
   "source": [
    "bankWork = bank('Amitr','1000')\n",
    "bankWork.deposit(1100)"
   ]
  },
  {
   "cell_type": "markdown",
   "metadata": {},
   "source": [
    "# Day 6 - Assignment 2"
   ]
  },
  {
   "cell_type": "code",
   "execution_count": null,
   "metadata": {},
   "outputs": [],
   "source": [
    "#Cone class with attribute- radius & height and method - Volume & surfaceArea\n",
    "\n",
    "import math\n",
    "class cone:\n",
    "    def __init__(self,radius,height):\n",
    "        self.radius=radius\n",
    "        self.height=height\n",
    "        \n",
    "    def volume(self):\n",
    "        vol = math.pi * (self.radius**2) * (self.height/3)\n",
    "        print(\"Volume : \",vol)\n",
    "        \n",
    "    def surfaceArea(self):\n",
    "        area = math.pi* self.radius *(self.radius+(math.sqrt((self.radius**2)+(self.height**2))))\n",
    "        print(\"Surface area : \",area)"
   ]
  },
  {
   "cell_type": "code",
   "execution_count": null,
   "metadata": {},
   "outputs": [],
   "source": [
    "con = cone(2,3)\n",
    "con.volume()\n",
    "con.surfaceArea()"
   ]
  },
  {
   "cell_type": "markdown",
   "metadata": {},
   "source": [
    "# Day 7 - No assignment"
   ]
  },
  {
   "cell_type": "markdown",
   "metadata": {},
   "source": [
    "# Day 8 - Assignment 1"
   ]
  },
  {
   "cell_type": "code",
   "execution_count": 59,
   "metadata": {},
   "outputs": [],
   "source": [
    "#decorator\n",
    "\n",
    "def getInput(calculate_arg_fun):\n",
    "    def wrap_function():\n",
    "        a = int(input(\"Enter your lower limit - \"))\n",
    "        b = int(input(\"Enter your upper limit - \"))\n",
    "        for i in range(a,b+1):\n",
    "            calculate_arg_fun(i)   \n",
    "    return wrap_function"
   ]
  },
  {
   "cell_type": "code",
   "execution_count": 60,
   "metadata": {},
   "outputs": [],
   "source": [
    "@getInput\n",
    "\n",
    "def evenOdd(num):\n",
    "    if num%2 == 0:\n",
    "        print(num,'is a even number \\n')\n",
    "    else:\n",
    "        print(num,'is a odd number \\n')"
   ]
  },
  {
   "cell_type": "code",
   "execution_count": 61,
   "metadata": {},
   "outputs": [
    {
     "name": "stdout",
     "output_type": "stream",
     "text": [
      "Enter your lower limit - 1\n",
      "Enter your upper limit - 20\n",
      "1 is a odd number \n",
      "\n",
      "2 is a even number \n",
      "\n",
      "3 is a odd number \n",
      "\n",
      "4 is a even number \n",
      "\n",
      "5 is a odd number \n",
      "\n",
      "6 is a even number \n",
      "\n",
      "7 is a odd number \n",
      "\n",
      "8 is a even number \n",
      "\n",
      "9 is a odd number \n",
      "\n",
      "10 is a even number \n",
      "\n",
      "11 is a odd number \n",
      "\n",
      "12 is a even number \n",
      "\n",
      "13 is a odd number \n",
      "\n",
      "14 is a even number \n",
      "\n",
      "15 is a odd number \n",
      "\n",
      "16 is a even number \n",
      "\n",
      "17 is a odd number \n",
      "\n",
      "18 is a even number \n",
      "\n",
      "19 is a odd number \n",
      "\n",
      "20 is a even number \n",
      "\n"
     ]
    }
   ],
   "source": [
    "evenOdd()"
   ]
  },
  {
   "cell_type": "markdown",
   "metadata": {},
   "source": [
    "# Day 8 - Assignment 2"
   ]
  },
  {
   "cell_type": "code",
   "execution_count": 58,
   "metadata": {},
   "outputs": [],
   "source": [
    "#Exception Handling"
   ]
  },
  {
   "cell_type": "code",
   "execution_count": 62,
   "metadata": {},
   "outputs": [
    {
     "name": "stdout",
     "output_type": "stream",
     "text": [
      "Writing test.txt\n"
     ]
    }
   ],
   "source": [
    "%%writefile test.txt\n",
    "\n",
    "hey, I am Amitr.How are you?"
   ]
  },
  {
   "cell_type": "code",
   "execution_count": 63,
   "metadata": {},
   "outputs": [
    {
     "name": "stdout",
     "output_type": "stream",
     "text": [
      "unable to write to file due to the read mode of file\n"
     ]
    }
   ],
   "source": [
    "f = open(\"test.txt\",'r')\n",
    "f.read()\n",
    "try:\n",
    "    f.write(\"I am from Patna \\n\")\n",
    "except:\n",
    "    print(\"unable to write to file due to the read mode of file\")"
   ]
  },
  {
   "cell_type": "code",
   "execution_count": null,
   "metadata": {},
   "outputs": [],
   "source": []
  }
 ],
 "metadata": {
  "kernelspec": {
   "display_name": "Python 3",
   "language": "python",
   "name": "python3"
  },
  "language_info": {
   "codemirror_mode": {
    "name": "ipython",
    "version": 3
   },
   "file_extension": ".py",
   "mimetype": "text/x-python",
   "name": "python",
   "nbconvert_exporter": "python",
   "pygments_lexer": "ipython3",
   "version": "3.7.6"
  }
 },
 "nbformat": 4,
 "nbformat_minor": 4
}
