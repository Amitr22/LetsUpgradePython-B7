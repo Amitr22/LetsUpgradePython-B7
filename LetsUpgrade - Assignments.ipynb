{
 "cells": [
  {
   "cell_type": "markdown",
   "metadata": {},
   "source": [
    "# Day 1 - No assignment"
   ]
  },
  {
   "cell_type": "markdown",
   "metadata": {},
   "source": [
    "# Day 2 - Assignment 1"
   ]
  },
  {
   "cell_type": "code",
   "execution_count": 74,
   "metadata": {},
   "outputs": [
    {
     "name": "stdout",
     "output_type": "stream",
     "text": [
      "[1, 2, 3, 4, 5, 'q', 'w', 'e', 'r', 't', 'y', 1, ['x', 'y', 'z']]\n",
      "Append : [1, 2, 3, 4, 5, 'q', 'w', 'e', 'r', 't', 'y', 1, ['x', 'y', 'z'], 'wwww']\n",
      "copy list a to b : [1, 2, 3, 4, 5, 'q', 'w', 'e', 'r', 't', 'y', 1, ['x', 'y', 'z'], 'wwww']\n",
      "count : 2\n",
      "extend : [1, 2, 3, 4, 5, 'q', 'w', 'e', 'r', 't', 'y', 1, ['x', 'y', 'z'], 'wwww', 'q', 'u', 'e', 'r', 't', 'y']\n",
      "index of element y : 10\n",
      "index of element y : 19\n",
      "insert new value at 2nd index : [1, 2, 'jj', 3, 4, 5, 'q', 'w', 'e', 'r', 't', 'y', 1, ['x', 'y', 'z'], 'wwww', 'q', 'u', 'e', 'r', 't', 'y']\n",
      "remove last element of the list : [1, 2, 'jj', 3, 4, 5, 'q', 'w', 'e', 'r', 't', 'y', 1, ['x', 'y', 'z'], 'wwww', 'q', 'u', 'e', 'r', 't']\n",
      "remove element of the list : [1, 2, 'jj', 3, 4, 5, 'q', 'w', 'e', 't', 'y', 1, ['x', 'y', 'z'], 'wwww', 'q', 'u', 'e', 'r', 't']\n",
      "reverse the list element : ['t', 'r', 'e', 'u', 'q', 'wwww', ['x', 'y', 'z'], 1, 'y', 't', 'e', 'w', 'q', 5, 4, 3, 'jj', 2, 1]\n",
      "sort the list value : ['z', 'y', 'x']\n",
      "clear : []\n",
      "b : [1, 2, 3, 4, 5, 'q', 'w', 'e', 'r', 't', 'y', 1, ['z', 'y', 'x'], 'wwww']\n"
     ]
    }
   ],
   "source": [
    "#Dataype - List\n",
    "\n",
    "\n",
    "a = [1,2,3,4,5,'q','w','e','r','t','y',1,['x','y','z']]\n",
    "print(a)\n",
    "\n",
    "a.append('wwww') #add new element in the list\n",
    "print('Append :', a)\n",
    "\n",
    "b = a.copy();\n",
    "print('copy list a to b :',b)\n",
    "\n",
    "c = a.count(1) #no of element in the list\n",
    "print('count :',c)\n",
    "\n",
    "a.extend('querty') #each letter of the word(string type) will add as a different element.\n",
    "print('extend :',a)\n",
    "\n",
    "i = a.index('y') #return the first occurance of the value in the list\n",
    "print('index of element y :',i)\n",
    "\n",
    "i2 = a.index('y',11,20) #return the first occurance of the value in the list between the given index, if not available it will through error\n",
    "print('index of element y :',i2);\n",
    "\n",
    "a.insert(2,'jj') #insert value in the perticular index\n",
    "print('insert new value at 2nd index :',a)\n",
    "\n",
    "a.pop() #remove last index element\n",
    "print('remove last element of the list :',a)\n",
    "\n",
    "a.remove('r') #remove first occurance of the list \n",
    "print('remove element of the list :',a)\n",
    "\n",
    "a.reverse() #reverse the list\n",
    "print('reverse the list element :',a)\n",
    "\n",
    "p=a[6]\n",
    "p.sort(reverse=True) #sort the string values, reverse true will sort in reverse  \n",
    "print('sort the list value :',p)\n",
    "\n",
    "a.clear() # clear the list\n",
    "print('clear :',a)\n",
    "print('b :',b)"
   ]
  },
  {
   "cell_type": "code",
   "execution_count": 130,
   "metadata": {},
   "outputs": [
    {
     "name": "stdout",
     "output_type": "stream",
     "text": [
      "{'c': 'Alto', 'b': 'tvs', 'a': 'hero'}\n",
      "{'a': 'test'}\n",
      "Alto\n",
      "dict_items([('c', 'Alto'), ('b', 'tvs'), ('a', 'hero')])\n",
      "dict_keys(['c', 'b', 'a'])\n",
      "dict_values(['Alto', 'tvs', 'hero'])\n",
      "copy of the existing dictionary : {'c': 'Alto', 'b': 'tvs', 'a': 'hero'}\n",
      "set default : {'c': 'Alto', 'b': 'tvs', 'a': 'hero', 'f': 'defaultValue'}\n",
      "update : {'c': 'Alto', 'b': 'tvs motors', 'a': 'hero', 'f': 'defaultValue'}\n",
      "hero\n",
      "{'c': 'Alto', 'b': 'tvs motors', 'f': 'defaultValue'}\n",
      "('f', 'defaultValue')\n",
      "{'c': 'Alto', 'b': 'tvs motors'}\n",
      "clear the elements :  {}\n"
     ]
    }
   ],
   "source": [
    "#Dataype - Dictionary\n",
    "\n",
    "d = {'c':'Alto','b':'tvs','a':'hero'}\n",
    "print(d)\n",
    "\n",
    "dFromKey = d.fromkeys('a','test') #key value data\n",
    "print(dFromKey)\n",
    "\n",
    "dGet = d.get('c') #get value from the given key\n",
    "print(dGet)\n",
    "\n",
    "dItems = d.items() #return key value pair\n",
    "print(dItems)\n",
    "\n",
    "\n",
    "dKeys = d.keys() #return only keys\n",
    "print(dKeys)\n",
    "\n",
    "dValues = d.values() #return only values\n",
    "print(dValues)\n",
    "\n",
    "dCopy = d.copy() #cody d directory to dCopy\n",
    "print('copy of the existing dictionary :',dCopy)\n",
    "\n",
    "\n",
    "d.setdefault('f','defaultValue') #if the key-value will not available,will add the default value \n",
    "print('set default :',d)\n",
    "\n",
    "d.update(b='tvs motors') #update/override key value\n",
    "print('update :',d)\n",
    "\n",
    "dPop = d.pop('a') #remove the values of the given key\n",
    "print(dPop)\n",
    "print(d)\n",
    "\n",
    "dPopItems = d.popitem() #remove the last key-value\n",
    "print(dPopItems)\n",
    "print(d)\n",
    "\n",
    "d.clear() #clear the element of the directory\n",
    "print('clear the elements : ',d)"
   ]
  },
  {
   "cell_type": "code",
   "execution_count": 147,
   "metadata": {},
   "outputs": [
    {
     "name": "stdout",
     "output_type": "stream",
     "text": [
      "{1, 2, 3, 'w', 'q', 'e'}\n",
      "add : {1, 2, 3, 4, 'w', 'q', 'e'}\n",
      "copy : {1, 2, 3, 4, 'q', 'w', 'e'}\n",
      "original {1, 2, 3, 4, 'w', 'q', 'e'}\n",
      "{2, 3, 4, 'w', 'q', 'e'}\n",
      "{2, 3, 4, 'q', 'e'}\n",
      "clear : set()\n"
     ]
    }
   ],
   "source": [
    "#Dataype - Sets\n",
    "\n",
    "s = {1,2,3,'q','w','e',2,3}\n",
    "print(s)\n",
    "\n",
    "s.add(4)\n",
    "print('add :',s)\n",
    "\n",
    "sCopy = s.copy()\n",
    "print('copy :',sCopy)\n",
    "print('original', s)\n",
    "\n",
    "s.pop() \n",
    "print(s)\n",
    "\n",
    "s.remove('w') #remove perticular value\n",
    "print(s)\n",
    "\n",
    "s.clear()\n",
    "print('clear :',s)\n"
   ]
  },
  {
   "cell_type": "code",
   "execution_count": 191,
   "metadata": {},
   "outputs": [
    {
     "name": "stdout",
     "output_type": "stream",
     "text": [
      "(1, 2, 3, 'q', 'w', 1)\n",
      "count of 1 : 2\n",
      "6\n",
      "min : 4\n",
      "max : 7\n",
      "index of w : 4\n"
     ]
    }
   ],
   "source": [
    "#Datatype - tuples\n",
    "\n",
    "t = (1,2,3,'q','w',1)\n",
    "print(t)\n",
    "\n",
    "tCount = t.count(1) #count the no of element\n",
    "print('count of 1 :',tCount)\n",
    "\n",
    "print(len(t)) #get length of the tuple\n",
    "\n",
    "t1 = (4,5,6,7) #retun min & max value but should be all element as number or string\n",
    "print('min :',min(t1))\n",
    "print('max :',max(t1))\n",
    "\n",
    "t = t.index('w') #fetch the index of the element if duplicate then first one otherwise error\n",
    "print('index of w :',t)"
   ]
  },
  {
   "cell_type": "code",
   "execution_count": 192,
   "metadata": {},
   "outputs": [
    {
     "name": "stdout",
     "output_type": "stream",
     "text": [
      "qwertye\n",
      "2\n",
      "Qwertye\n",
      "2\n",
      "True\n",
      "False\n"
     ]
    }
   ],
   "source": [
    "#Datatype - String\n",
    "\n",
    "str = 'qwertye';\n",
    "print(str)\n",
    "\n",
    "\n",
    "sCount = str.count('e')#no of element count \n",
    "print(sCount)\n",
    "\n",
    "sCap = str.capitalize() #capitalize first character\n",
    "print(sCap)\n",
    "\n",
    "sFind = str.find('e') #return index of the character\n",
    "print(sFind)\n",
    "\n",
    "sIsLower = str.islower()\n",
    "print(sIsLower)\n",
    "\n",
    "strIsDigit = str.isdigit()\n",
    "print(strIsDigit)"
   ]
  },
  {
   "cell_type": "code",
   "execution_count": null,
   "metadata": {},
   "outputs": [],
   "source": []
  }
 ],
 "metadata": {
  "kernelspec": {
   "display_name": "Python 3",
   "language": "python",
   "name": "python3"
  },
  "language_info": {
   "codemirror_mode": {
    "name": "ipython",
    "version": 3
   },
   "file_extension": ".py",
   "mimetype": "text/x-python",
   "name": "python",
   "nbconvert_exporter": "python",
   "pygments_lexer": "ipython3",
   "version": "3.7.6"
  }
 },
 "nbformat": 4,
 "nbformat_minor": 4
}
